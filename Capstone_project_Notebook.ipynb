{
 "cells": [
  {
   "cell_type": "markdown",
   "metadata": {},
   "source": [
    "# Capstone project Notebook \n",
    "###  IBM Data Science Professional Certificate "
   ]
  },
  {
   "cell_type": "markdown",
   "metadata": {},
   "source": [
    "#### Import packages"
   ]
  },
  {
   "cell_type": "code",
   "execution_count": 1,
   "metadata": {},
   "outputs": [],
   "source": [
    "import pandas as pd\n",
    "import numpy as np\n",
    "\n",
    "from bs4 import BeautifulSoup\n",
    "import requests"
   ]
  },
  {
   "cell_type": "markdown",
   "metadata": {},
   "source": [
    "#### Get data and insert it on a Dataframe"
   ]
  },
  {
   "cell_type": "code",
   "execution_count": 2,
   "metadata": {
    "scrolled": false
   },
   "outputs": [],
   "source": [
    "data_url = 'https://en.wikipedia.org/wiki/List_of_postal_codes_of_Canada:_M'\n",
    "page = requests.get(data_url)\n",
    "\n",
    "soup = BeautifulSoup(page.text)"
   ]
  },
  {
   "cell_type": "code",
   "execution_count": 3,
   "metadata": {},
   "outputs": [],
   "source": [
    "table_rows = soup.find('table').find('tbody').find_all('tr')\n",
    "\n",
    "table_data = []\n",
    "\n",
    "for row in table_rows:\n",
    "    cells = row.find_all('td')\n",
    "    \n",
    "    if cells != []:\n",
    "        postcode = cells[0].get_text()\n",
    "        borough = cells[1].get_text()\n",
    "        neighbourhood = cells[2].get_text()\n",
    "        \n",
    "        table_data.append([postcode, borough, neighbourhood.replace('\\n', '')])\n",
    "\n",
    "df = pd.DataFrame(table_data, columns=['PostalCode', 'Borough', 'Neighborhood'])"
   ]
  },
  {
   "cell_type": "code",
   "execution_count": 4,
   "metadata": {},
   "outputs": [
    {
     "data": {
      "text/html": [
       "<div>\n",
       "<style scoped>\n",
       "    .dataframe tbody tr th:only-of-type {\n",
       "        vertical-align: middle;\n",
       "    }\n",
       "\n",
       "    .dataframe tbody tr th {\n",
       "        vertical-align: top;\n",
       "    }\n",
       "\n",
       "    .dataframe thead th {\n",
       "        text-align: right;\n",
       "    }\n",
       "</style>\n",
       "<table border=\"1\" class=\"dataframe\">\n",
       "  <thead>\n",
       "    <tr style=\"text-align: right;\">\n",
       "      <th></th>\n",
       "      <th>PostalCode</th>\n",
       "      <th>Borough</th>\n",
       "      <th>Neighborhood</th>\n",
       "    </tr>\n",
       "  </thead>\n",
       "  <tbody>\n",
       "    <tr>\n",
       "      <th>0</th>\n",
       "      <td>M1A</td>\n",
       "      <td>Not assigned</td>\n",
       "      <td>Not assigned</td>\n",
       "    </tr>\n",
       "    <tr>\n",
       "      <th>1</th>\n",
       "      <td>M2A</td>\n",
       "      <td>Not assigned</td>\n",
       "      <td>Not assigned</td>\n",
       "    </tr>\n",
       "    <tr>\n",
       "      <th>2</th>\n",
       "      <td>M3A</td>\n",
       "      <td>North York</td>\n",
       "      <td>Parkwoods</td>\n",
       "    </tr>\n",
       "    <tr>\n",
       "      <th>3</th>\n",
       "      <td>M4A</td>\n",
       "      <td>North York</td>\n",
       "      <td>Victoria Village</td>\n",
       "    </tr>\n",
       "    <tr>\n",
       "      <th>4</th>\n",
       "      <td>M5A</td>\n",
       "      <td>Downtown Toronto</td>\n",
       "      <td>Harbourfront</td>\n",
       "    </tr>\n",
       "  </tbody>\n",
       "</table>\n",
       "</div>"
      ],
      "text/plain": [
       "  PostalCode           Borough      Neighborhood\n",
       "0        M1A      Not assigned      Not assigned\n",
       "1        M2A      Not assigned      Not assigned\n",
       "2        M3A        North York         Parkwoods\n",
       "3        M4A        North York  Victoria Village\n",
       "4        M5A  Downtown Toronto      Harbourfront"
      ]
     },
     "execution_count": 4,
     "metadata": {},
     "output_type": "execute_result"
    }
   ],
   "source": [
    "df.head()"
   ]
  },
  {
   "cell_type": "markdown",
   "metadata": {},
   "source": [
    "#### Preprocess the data as specified"
   ]
  },
  {
   "cell_type": "code",
   "execution_count": 5,
   "metadata": {},
   "outputs": [],
   "source": [
    "# Eliminate Not assigned Boroughs\n",
    "df = df[df['Borough'] != 'Not assigned']\n",
    "\n",
    "# Change Not assigned Neighborhoods to Boroughs values\n",
    "for index, row in df.iterrows():\n",
    "    if(row['Neighborhood'] == 'Not assigned'):\n",
    "        row['Neighborhood'] = row['Borough']"
   ]
  },
  {
   "cell_type": "code",
   "execution_count": 6,
   "metadata": {},
   "outputs": [],
   "source": [
    "df_new = pd.DataFrame()\n",
    "\n",
    "df_new = pd.DataFrame(df.groupby(['PostalCode', 'Borough'])['Neighborhood'].apply(','.join))"
   ]
  },
  {
   "cell_type": "code",
   "execution_count": 7,
   "metadata": {},
   "outputs": [
    {
     "data": {
      "text/html": [
       "<div>\n",
       "<style scoped>\n",
       "    .dataframe tbody tr th:only-of-type {\n",
       "        vertical-align: middle;\n",
       "    }\n",
       "\n",
       "    .dataframe tbody tr th {\n",
       "        vertical-align: top;\n",
       "    }\n",
       "\n",
       "    .dataframe thead th {\n",
       "        text-align: right;\n",
       "    }\n",
       "</style>\n",
       "<table border=\"1\" class=\"dataframe\">\n",
       "  <thead>\n",
       "    <tr style=\"text-align: right;\">\n",
       "      <th></th>\n",
       "      <th></th>\n",
       "      <th>Neighborhood</th>\n",
       "    </tr>\n",
       "    <tr>\n",
       "      <th>PostalCode</th>\n",
       "      <th>Borough</th>\n",
       "      <th></th>\n",
       "    </tr>\n",
       "  </thead>\n",
       "  <tbody>\n",
       "    <tr>\n",
       "      <th>M1B</th>\n",
       "      <th>Scarborough</th>\n",
       "      <td>Rouge,Malvern</td>\n",
       "    </tr>\n",
       "    <tr>\n",
       "      <th>M1C</th>\n",
       "      <th>Scarborough</th>\n",
       "      <td>Highland Creek,Rouge Hill,Port Union</td>\n",
       "    </tr>\n",
       "    <tr>\n",
       "      <th>M1E</th>\n",
       "      <th>Scarborough</th>\n",
       "      <td>Guildwood,Morningside,West Hill</td>\n",
       "    </tr>\n",
       "    <tr>\n",
       "      <th>M1G</th>\n",
       "      <th>Scarborough</th>\n",
       "      <td>Woburn</td>\n",
       "    </tr>\n",
       "    <tr>\n",
       "      <th>M1H</th>\n",
       "      <th>Scarborough</th>\n",
       "      <td>Cedarbrae</td>\n",
       "    </tr>\n",
       "    <tr>\n",
       "      <th>M1J</th>\n",
       "      <th>Scarborough</th>\n",
       "      <td>Scarborough Village</td>\n",
       "    </tr>\n",
       "    <tr>\n",
       "      <th>M1K</th>\n",
       "      <th>Scarborough</th>\n",
       "      <td>East Birchmount Park,Ionview,Kennedy Park</td>\n",
       "    </tr>\n",
       "    <tr>\n",
       "      <th>M1L</th>\n",
       "      <th>Scarborough</th>\n",
       "      <td>Clairlea,Golden Mile,Oakridge</td>\n",
       "    </tr>\n",
       "    <tr>\n",
       "      <th>M1M</th>\n",
       "      <th>Scarborough</th>\n",
       "      <td>Cliffcrest,Cliffside,Scarborough Village West</td>\n",
       "    </tr>\n",
       "    <tr>\n",
       "      <th>M1N</th>\n",
       "      <th>Scarborough</th>\n",
       "      <td>Birch Cliff,Cliffside West</td>\n",
       "    </tr>\n",
       "    <tr>\n",
       "      <th>M1P</th>\n",
       "      <th>Scarborough</th>\n",
       "      <td>Dorset Park,Scarborough Town Centre,Wexford He...</td>\n",
       "    </tr>\n",
       "    <tr>\n",
       "      <th>M1R</th>\n",
       "      <th>Scarborough</th>\n",
       "      <td>Maryvale,Wexford</td>\n",
       "    </tr>\n",
       "    <tr>\n",
       "      <th>M1S</th>\n",
       "      <th>Scarborough</th>\n",
       "      <td>Agincourt</td>\n",
       "    </tr>\n",
       "    <tr>\n",
       "      <th>M1T</th>\n",
       "      <th>Scarborough</th>\n",
       "      <td>Clarks Corners,Sullivan,Tam O'Shanter</td>\n",
       "    </tr>\n",
       "    <tr>\n",
       "      <th>M1V</th>\n",
       "      <th>Scarborough</th>\n",
       "      <td>Agincourt North,L'Amoreaux East,Milliken,Steel...</td>\n",
       "    </tr>\n",
       "    <tr>\n",
       "      <th>M1W</th>\n",
       "      <th>Scarborough</th>\n",
       "      <td>L'Amoreaux West</td>\n",
       "    </tr>\n",
       "    <tr>\n",
       "      <th>M1X</th>\n",
       "      <th>Scarborough</th>\n",
       "      <td>Upper Rouge</td>\n",
       "    </tr>\n",
       "    <tr>\n",
       "      <th>M2H</th>\n",
       "      <th>North York</th>\n",
       "      <td>Hillcrest Village</td>\n",
       "    </tr>\n",
       "    <tr>\n",
       "      <th>M2J</th>\n",
       "      <th>North York</th>\n",
       "      <td>Fairview,Henry Farm,Oriole</td>\n",
       "    </tr>\n",
       "    <tr>\n",
       "      <th>M2K</th>\n",
       "      <th>North York</th>\n",
       "      <td>Bayview Village</td>\n",
       "    </tr>\n",
       "  </tbody>\n",
       "</table>\n",
       "</div>"
      ],
      "text/plain": [
       "                                                             Neighborhood\n",
       "PostalCode Borough                                                       \n",
       "M1B        Scarborough                                      Rouge,Malvern\n",
       "M1C        Scarborough               Highland Creek,Rouge Hill,Port Union\n",
       "M1E        Scarborough                    Guildwood,Morningside,West Hill\n",
       "M1G        Scarborough                                             Woburn\n",
       "M1H        Scarborough                                          Cedarbrae\n",
       "M1J        Scarborough                                Scarborough Village\n",
       "M1K        Scarborough          East Birchmount Park,Ionview,Kennedy Park\n",
       "M1L        Scarborough                      Clairlea,Golden Mile,Oakridge\n",
       "M1M        Scarborough      Cliffcrest,Cliffside,Scarborough Village West\n",
       "M1N        Scarborough                         Birch Cliff,Cliffside West\n",
       "M1P        Scarborough  Dorset Park,Scarborough Town Centre,Wexford He...\n",
       "M1R        Scarborough                                   Maryvale,Wexford\n",
       "M1S        Scarborough                                          Agincourt\n",
       "M1T        Scarborough              Clarks Corners,Sullivan,Tam O'Shanter\n",
       "M1V        Scarborough  Agincourt North,L'Amoreaux East,Milliken,Steel...\n",
       "M1W        Scarborough                                    L'Amoreaux West\n",
       "M1X        Scarborough                                        Upper Rouge\n",
       "M2H        North York                                   Hillcrest Village\n",
       "M2J        North York                          Fairview,Henry Farm,Oriole\n",
       "M2K        North York                                     Bayview Village"
      ]
     },
     "execution_count": 7,
     "metadata": {},
     "output_type": "execute_result"
    }
   ],
   "source": [
    "df_new.head(20)"
   ]
  },
  {
   "cell_type": "code",
   "execution_count": 8,
   "metadata": {},
   "outputs": [
    {
     "data": {
      "text/plain": [
       "(103, 1)"
      ]
     },
     "execution_count": 8,
     "metadata": {},
     "output_type": "execute_result"
    }
   ],
   "source": [
    "df_new.shape"
   ]
  }
 ],
 "metadata": {
  "kernelspec": {
   "display_name": "Python 3",
   "language": "python",
   "name": "python3"
  },
  "language_info": {
   "codemirror_mode": {
    "name": "ipython",
    "version": 3
   },
   "file_extension": ".py",
   "mimetype": "text/x-python",
   "name": "python",
   "nbconvert_exporter": "python",
   "pygments_lexer": "ipython3",
   "version": "3.7.0"
  }
 },
 "nbformat": 4,
 "nbformat_minor": 2
}
